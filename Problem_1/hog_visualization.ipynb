{
 "cells": [
  {
   "cell_type": "markdown",
   "metadata": {},
   "source": [
    "# Problem 1: TensorFlow and Edge Detection using SVM"
   ]
  },
  {
   "cell_type": "code",
   "execution_count": 2,
   "metadata": {},
   "outputs": [],
   "source": [
    "%matplotlib inline\n",
    "# from __future__ import division\n",
    "from ipywidgets import interact\n",
    "import matplotlib.pyplot as plt\n",
    "import numpy as np\n",
    "import tensorflow.compat.v2 as tf\n",
    "import shutil\n",
    "from utils import *\n",
    "from HOG import *\n",
    "from svm_tf import *"
   ]
  },
  {
   "cell_type": "code",
   "execution_count": 3,
   "metadata": {},
   "outputs": [
    {
     "data": {
      "text/plain": [
       "['eval_neg', 'train_neg', 'test_pos', 'eval_pos', 'train_pos', 'test_neg']"
      ]
     },
     "execution_count": 3,
     "metadata": {},
     "output_type": "execute_result"
    }
   ],
   "source": [
    "datasets = np.load('pedestrian_dataset.npz')    # extracted from the original Dalal and Triggs paper dataset available here: http://pascal.inrialpes.fr/data/human/\n",
    "[k for k in datasets.keys()]"
   ]
  },
  {
   "cell_type": "code",
   "execution_count": 4,
   "metadata": {},
   "outputs": [
    {
     "data": {
      "application/vnd.jupyter.widget-view+json": {
       "model_id": "8c7d5be955504f10906397adaf61d9a1",
       "version_major": 2,
       "version_minor": 0
      },
      "text/plain": [
       "interactive(children=(IntSlider(value=249, description='k', max=499), IntSlider(value=0, description='p', max=…"
      ]
     },
     "metadata": {},
     "output_type": "display_data"
    }
   ],
   "source": [
    "### EXPLORE THE DATASET!\n",
    "# p=0 are negative examples\n",
    "# p=1 are positive examples\n",
    "@interact(k = (0, datasets[\"train_neg\"].shape[0] - 1), p = (0, 1))\n",
    "def view_img(k, p):\n",
    "    d = {0: \"train_neg\", 1: \"train_pos\"}\n",
    "    plt.imshow(datasets[d[p]][k])"
   ]
  },
  {
   "cell_type": "code",
   "execution_count": 5,
   "metadata": {},
   "outputs": [
    {
     "data": {
      "application/vnd.jupyter.widget-view+json": {
       "model_id": "b8a04eed33254bc982554a3f3ee8cae6",
       "version_major": 2,
       "version_minor": 0
      },
      "text/plain": [
       "interactive(children=(IntSlider(value=249, description='k', max=499), IntSlider(value=0, description='p', max=…"
      ]
     },
     "metadata": {},
     "output_type": "display_data"
    }
   ],
   "source": [
    "### VISUALIZE HOGs!\n",
    "# p=0 are negative examples\n",
    "# p=1 are positive examples\n",
    "@interact(k = (0, datasets[\"train_neg\"].shape[0]-1), p = (0, 1))\n",
    "def view_img(k, p):\n",
    "    d = {0: \"train_neg\", 1: \"train_pos\"}\n",
    "    plt.figure(figsize = (15,15))    # feel free to change this depending on your screen resolution\n",
    "    plt.imshow(datasets[d[p]][k])\n",
    "    plot_cell_hogs(tf_histogram_of_oriented_gradients(datasets[d[p]][k])[0])"
   ]
  },
  {
   "cell_type": "markdown",
   "metadata": {},
   "source": [
    "# Do this after you have trained your SVM with HOG features"
   ]
  },
  {
   "cell_type": "code",
   "execution_count": 6,
   "metadata": {
    "scrolled": false
   },
   "outputs": [
    {
     "data": {
      "application/vnd.jupyter.widget-view+json": {
       "model_id": "6ca9306b30b041f8972ce619a09f20e0",
       "version_major": 2,
       "version_minor": 0
      },
      "text/plain": [
       "interactive(children=(IntSlider(value=99, description='k', max=199), IntSlider(value=0, description='show_imag…"
      ]
     },
     "metadata": {},
     "output_type": "display_data"
    }
   ],
   "source": [
    "### VISUALIZE WEIGHTED HOGs!\n",
    "##################################\n",
    "(x_train, y_train), (x_eval, y_eval), (x_pred, y_true) = get_hog_data()\n",
    "data = {}\n",
    "data['x_train'] = x_train\n",
    "data['y_train'] = y_train\n",
    "data['x_eval'] = x_eval\n",
    "data['y_eval'] = y_eval\n",
    "data['x_pred'] = x_pred\n",
    "data['y_true']  = y_true\n",
    "data['name'] = 'hog'\n",
    "\n",
    "model_dir = \"hog_model/trained_weights\"\n",
    "\n",
    "dim = data['x_train'].shape[-1]\n",
    "svm_model = SVM(dim=dim)\n",
    "svm_model.load_weights(model_dir)\n",
    "\n",
    "data = np.concatenate([datasets[\"test_pos\"], datasets[\"test_neg\"]], axis=0)\n",
    "\n",
    "weights = np.reshape(svm_model.W.numpy(), [1, -1])\n",
    "pos_weights = np.maximum(weights, 0)\n",
    "neg_weights = -np.minimum(weights, 0)\n",
    "file_exists = False\n",
    "try:\n",
    "    misclass_idx = np.load(\"hog_misclass_idx.npy\")\n",
    "    file_exists = True\n",
    "except OSError:\n",
    "    print(\"\\n\\nYou need to run the svm with HOG features first! hog_misclass_idx.py doesn't exist yet.\\n\\n\")\n",
    "\n",
    "if file_exists:\n",
    "    @interact(k = (0, data.shape[0]-1), show_image = (False, True))\n",
    "    def view_img(k, show_image):\n",
    "\n",
    "        misclass_idx = np.load(\"hog_misclass_idx.npy\")\n",
    "        plt.figure(figsize = (15,15))    # feel free to change this depending on your screen resolution\n",
    "        plt.imshow(data[k])\n",
    "        hog = hog_descriptor(data[k]).numpy()\n",
    "        unweighted_block_hogs = np.mean(hog.reshape([16, 8, 1, 9]), axis=2)\n",
    "        pos_weighted_block_hogs = np.mean(pos_weights.reshape([16, 8, 1, 9])*hog.reshape([16, 8, 1, 9]), axis=2)\n",
    "        neg_weighted_block_hogs = np.mean(neg_weights.reshape([16, 8, 1, 9])*hog.reshape([16, 8, 1, 9]), axis=2)\n",
    "\n",
    "        plt.subplot(1,3,1)\n",
    "        color = 'yellow' if show_image else 'white'\n",
    "        plt.imshow(show_image*data[k])\n",
    "        plot_cell_hogs(unweighted_block_hogs, pixels_in_cell=8, color=color)\n",
    "        if k in misclass_idx:\n",
    "            plt.title(\"Misclassified!\")\n",
    "        else:\n",
    "            plt.title(\"Classified correctly\")\n",
    "\n",
    "        plt.subplot(1,3,2)\n",
    "        plt.imshow(show_image*data[k])\n",
    "        plot_cell_hogs(pos_weighted_block_hogs, pixels_in_cell=8, color=color)\n",
    "        plt.title(\"Positive Weights\")\n",
    "\n",
    "        plt.subplot(1,3,3)\n",
    "        plt.imshow(show_image*data[k])\n",
    "        plot_cell_hogs(neg_weighted_block_hogs, pixels_in_cell=8, color=color)\n",
    "        plt.title(\"Negative Weights\")"
   ]
  },
  {
   "cell_type": "code",
   "execution_count": null,
   "metadata": {},
   "outputs": [],
   "source": []
  }
 ],
 "metadata": {
  "anaconda-cloud": {},
  "kernelspec": {
   "display_name": "Python 3",
   "language": "python",
   "name": "python3"
  },
  "language_info": {
   "codemirror_mode": {
    "name": "ipython",
    "version": 3
   },
   "file_extension": ".py",
   "mimetype": "text/x-python",
   "name": "python",
   "nbconvert_exporter": "python",
   "pygments_lexer": "ipython3",
   "version": "3.7.5"
  }
 },
 "nbformat": 4,
 "nbformat_minor": 2
}
